{
 "cells": [
  {
   "cell_type": "code",
   "execution_count": null,
   "metadata": {
    "id": "g368hAvHzjsw"
   },
   "outputs": [],
   "source": [
    "#  _____      _ _   _       _   _                       _ _                   _                                  \n",
    "# |_   _|    (_) | (_)     | | (_)                     | ( )                 | |                                 \n",
    "#   | | _ __  _| |_ _  __ _| |_ _  ___  _ __     __ _  | |/  __ _ _ __   __ _| |_   _ ___  ___                   \n",
    "#   | || '_ \\| | __| |/ _` | __| |/ _ \\| '_ \\   / _` | | |  / _` | '_ \\ / _` | | | | / __|/ _ \\                  \n",
    "#  _| || | | | | |_| | (_| | |_| | (_) | | | | | (_| | | | | (_| | | | | (_| | | |_| \\__ \\  __/                  \n",
    "#  \\___/_| |_|_|\\__|_|\\__,_|\\__|_|\\___/|_| |_|  \\__,_| |_|  \\__,_|_| |_|\\__,_|_|\\__, |___/\\___|                  \n",
    "#                                                                                __/ |                           \n",
    "#                                                                               |___/                            \n",
    "#      _            _                                                          ______      _   _                 \n",
    "#     | |          | |                                                         | ___ \\    | | | |                \n",
    "#   __| | ___    __| | ___  _ __  _ __   ___  ___  ___    __ ___   _____  ___  | |_/ /   _| |_| |__   ___  _ __  \n",
    "#  / _` |/ _ \\  / _` |/ _ \\| '_ \\| '_ \\ / _ \\/ _ \\/ __|  / _` \\ \\ / / _ \\/ __| |  __/ | | | __| '_ \\ / _ \\| '_ \\ \n",
    "# | (_| |  __/ | (_| | (_) | | | | | | |  __/  __/\\__ \\ | (_| |\\ V /  __/ (__  | |  | |_| | |_| | | | (_) | | | |\n",
    "#  \\__,_|\\___|  \\__,_|\\___/|_| |_|_| |_|\\___|\\___||___/  \\__,_| \\_/ \\___|\\___| \\_|   \\__, |\\__|_| |_|\\___/|_| |_|\n",
    "#                                                                                     __/ |                      \n",
    "#                                                                                    |___/                                                   \n",
    "#\n",
    "#                ,@@@@@@@,\n",
    "#        ,,,.   ,@@@@@@/@@,  .oo8888o.\n",
    "#     ,&%%&%&&%,@@@@@/@@@@@@,8888\\88/8o\n",
    "#    ,%&\\%&&%&&%,@@@\\@@@/@@@88\\88888/88'\n",
    "#    %&&%&%&/%&&%@@\\@@/ /@@@88888\\88888'\n",
    "#    %&&%/ %&%%&&@@\\ V /@@' `88\\8 `/88'\n",
    "#    `&%\\ ` /%&'    |.|        \\ '|8'\n",
    "#        |o|        | |         | |\n",
    "#        |.|        | |         | |\n",
    "#     \\\\/ ._\\//_/__/  ,\\_//__\\\\/.  \\_//__/_\n",
    "#\n",
    "#\n",
    "# par\n",
    "# Anthony Gagnon\n",
    "# Auxiliaire de recherche - 1er cycle\n",
    "# Salle des marchés Deloitte - PAP-3324\n",
    "# FSA ULaval"
   ]
  },
  {
   "cell_type": "markdown",
   "metadata": {
    "id": "GwSyu2LCfFlQ"
   },
   "source": [
    "### 1. Court rappel de notions élémentaires de programmation\n",
    "\n",
    "##### 1.1 Les variables (Rappel)\n"
   ]
  },
  {
   "cell_type": "code",
   "execution_count": null,
   "metadata": {
    "colab": {
     "base_uri": "https://localhost:8080/"
    },
    "executionInfo": {
     "elapsed": 50,
     "status": "ok",
     "timestamp": 1664638575903,
     "user": {
      "displayName": "Anthony Gagnon",
      "userId": "05371731791265063565"
     },
     "user_tz": 240
    },
    "id": "i5JpNjxC0dVA",
    "outputId": "e4f41779-5951-49ea-c95e-252c38b6fe23"
   },
   "outputs": [],
   "source": [
    "# DÉFINIR UNE VARIABLE\n",
    "\n",
    "mon_nom = 'Jean Girard'\n",
    "mon_age = 36\n",
    "\n",
    "print(mon_nom)"
   ]
  },
  {
   "cell_type": "code",
   "execution_count": null,
   "metadata": {
    "colab": {
     "base_uri": "https://localhost:8080/"
    },
    "executionInfo": {
     "elapsed": 286,
     "status": "ok",
     "timestamp": 1664638586494,
     "user": {
      "displayName": "Anthony Gagnon",
      "userId": "05371731791265063565"
     },
     "user_tz": 240
    },
    "id": "cnrNABL33aId",
    "outputId": "c4621ba2-4fad-4a0c-d73f-9ffeeec0917c"
   },
   "outputs": [],
   "source": [
    "# LES LISTES ET LES TUPLES\n",
    "\n",
    "ma_liste = [1.14, 28475, 'Bonjour !']\n",
    "mon_tuple = (1.14, 28475, 'Bonjour !')\n",
    "\n",
    "mon_tuple[1]"
   ]
  },
  {
   "cell_type": "code",
   "execution_count": null,
   "metadata": {
    "colab": {
     "base_uri": "https://localhost:8080/",
     "height": 36
    },
    "executionInfo": {
     "elapsed": 338,
     "status": "ok",
     "timestamp": 1664638596618,
     "user": {
      "displayName": "Anthony Gagnon",
      "userId": "05371731791265063565"
     },
     "user_tz": 240
    },
    "id": "hyPGCI2E1YFD",
    "outputId": "09e776ae-3d1c-4a3c-ae0b-51d276f542f5"
   },
   "outputs": [],
   "source": [
    "# LES DICTIONNAIRES\n",
    "mon_dictionnaire = {\n",
    "    'clé' : 'valeur',\n",
    "    'nom' : 'Ricky Bobby',\n",
    "    'age' : 36,\n",
    "}\n",
    "\n",
    "mon_dictionnaire['nom']"
   ]
  },
  {
   "cell_type": "code",
   "execution_count": null,
   "metadata": {
    "colab": {
     "base_uri": "https://localhost:8080/",
     "height": 104
    },
    "executionInfo": {
     "elapsed": 348,
     "status": "ok",
     "timestamp": 1664638603713,
     "user": {
      "displayName": "Anthony Gagnon",
      "userId": "05371731791265063565"
     },
     "user_tz": 240
    },
    "id": "QPqn3Cvg1u56",
    "outputId": "6ec182b6-55be-4c80-869b-a3ff3a277545"
   },
   "outputs": [],
   "source": [
    "# TYPES DES VARIABLES\n",
    "display(\n",
    "    type(mon_nom),\n",
    "    type(mon_age),\n",
    "    type(ma_liste),\n",
    "    type(mon_tuple),\n",
    "    type(mon_dictionnaire),\n",
    ")"
   ]
  },
  {
   "cell_type": "markdown",
   "metadata": {
    "id": "EvkHNDPj4ptP"
   },
   "source": [
    "##### 1.2 Les fonctions (Rappel)\n"
   ]
  },
  {
   "cell_type": "code",
   "execution_count": null,
   "metadata": {
    "id": "ohtb2ndh4t4W"
   },
   "outputs": [],
   "source": [
    "def ajouter_deux(chiffre):\n",
    "    nouveau_chiffre = chiffre + 2\n",
    "    return nouveau_chiffre"
   ]
  },
  {
   "cell_type": "code",
   "execution_count": null,
   "metadata": {
    "colab": {
     "base_uri": "https://localhost:8080/",
     "height": 69
    },
    "executionInfo": {
     "elapsed": 15,
     "status": "ok",
     "timestamp": 1664596299745,
     "user": {
      "displayName": "Anthony Gagnon",
      "userId": "05371731791265063565"
     },
     "user_tz": 240
    },
    "id": "IZ_H__bi4-wN",
    "outputId": "6584b680-757e-4d44-f91a-40eb9d721ece"
   },
   "outputs": [],
   "source": [
    "display(\n",
    "    ajouter_deux(2),\n",
    "    ajouter_deux(16528),\n",
    "    ajouter_deux(-147.12)\n",
    ")"
   ]
  },
  {
   "cell_type": "code",
   "execution_count": null,
   "metadata": {
    "colab": {
     "base_uri": "https://localhost:8080/"
    },
    "executionInfo": {
     "elapsed": 392,
     "status": "ok",
     "timestamp": 1664638637717,
     "user": {
      "displayName": "Anthony Gagnon",
      "userId": "05371731791265063565"
     },
     "user_tz": 240
    },
    "id": "gbLqzOkJ5C32",
    "outputId": "cf6c666f-eaa2-429d-f5d5-17f4f59ae350"
   },
   "outputs": [],
   "source": [
    "ajouter_deux(mon_age)"
   ]
  },
  {
   "cell_type": "code",
   "execution_count": null,
   "metadata": {
    "colab": {
     "base_uri": "https://localhost:8080/",
     "height": 374
    },
    "executionInfo": {
     "elapsed": 326,
     "status": "error",
     "timestamp": 1664638639450,
     "user": {
      "displayName": "Anthony Gagnon",
      "userId": "05371731791265063565"
     },
     "user_tz": 240
    },
    "id": "cIg5mNKn5zde",
    "outputId": "8da9ebe5-32b6-4eb3-882e-43c860596b2a"
   },
   "outputs": [],
   "source": [
    "ajouter_deux(ma_liste)"
   ]
  },
  {
   "cell_type": "markdown",
   "metadata": {
    "id": "AzlEGbvx59tw"
   },
   "source": [
    "##### 1.3 Les conditions (Rappel)\n"
   ]
  },
  {
   "cell_type": "code",
   "execution_count": null,
   "metadata": {
    "id": "LUCdtrQ451RV"
   },
   "outputs": [],
   "source": [
    "def ajouter_deux(chiffre):\n",
    "    if type(chiffre) == list:\n",
    "        print('Désolé, vous ne pouvez pas additionner une liste et un nombre !')\n",
    "    else:\n",
    "        nouveau_chiffre = chiffre + 2\n",
    "        return nouveau_chiffre"
   ]
  },
  {
   "cell_type": "code",
   "execution_count": null,
   "metadata": {
    "colab": {
     "base_uri": "https://localhost:8080/"
    },
    "executionInfo": {
     "elapsed": 322,
     "status": "ok",
     "timestamp": 1664638670147,
     "user": {
      "displayName": "Anthony Gagnon",
      "userId": "05371731791265063565"
     },
     "user_tz": 240
    },
    "id": "19MsHVNG6dut",
    "outputId": "f6837e89-d6e7-4b39-89c1-bfb35838e66f"
   },
   "outputs": [],
   "source": [
    "ajouter_deux(ma_liste)"
   ]
  },
  {
   "cell_type": "code",
   "execution_count": null,
   "metadata": {
    "colab": {
     "base_uri": "https://localhost:8080/",
     "height": 444
    },
    "executionInfo": {
     "elapsed": 264,
     "status": "error",
     "timestamp": 1664638674242,
     "user": {
      "displayName": "Anthony Gagnon",
      "userId": "05371731791265063565"
     },
     "user_tz": 240
    },
    "id": "uH-c0mfX6iHP",
    "outputId": "8da3bc42-85e8-450d-96c2-a7f0eb339b71"
   },
   "outputs": [],
   "source": [
    "ajouter_deux(mon_tuple)"
   ]
  },
  {
   "cell_type": "code",
   "execution_count": null,
   "metadata": {
    "colab": {
     "base_uri": "https://localhost:8080/"
    },
    "executionInfo": {
     "elapsed": 272,
     "status": "ok",
     "timestamp": 1664638681644,
     "user": {
      "displayName": "Anthony Gagnon",
      "userId": "05371731791265063565"
     },
     "user_tz": 240
    },
    "id": "vZ2Lpp_l6gUN",
    "outputId": "e2fdd075-57ce-42c2-924c-24966429d1aa"
   },
   "outputs": [],
   "source": [
    "try:\n",
    "    ajouter_deux(mon_tuple)\n",
    "except:\n",
    "    print('Désolé, cela n\\'a pas fonctionné !')"
   ]
  },
  {
   "cell_type": "markdown",
   "metadata": {
    "id": "9Kf7aKcN8ZpC"
   },
   "source": [
    "##### 1.4 Les boucles (Rappel)\n"
   ]
  },
  {
   "cell_type": "code",
   "execution_count": null,
   "metadata": {
    "colab": {
     "base_uri": "https://localhost:8080/"
    },
    "executionInfo": {
     "elapsed": 251,
     "status": "ok",
     "timestamp": 1664638697885,
     "user": {
      "displayName": "Anthony Gagnon",
      "userId": "05371731791265063565"
     },
     "user_tz": 240
    },
    "id": "8RYOwgH96vNh",
    "outputId": "cdac12ce-3937-4904-9d34-ab89f16ff551"
   },
   "outputs": [],
   "source": [
    "for chiffre in [114, 278, 165487]:\n",
    "    print(ajouter_deux(chiffre))"
   ]
  },
  {
   "cell_type": "code",
   "execution_count": null,
   "metadata": {
    "id": "b3X84v4h8oue"
   },
   "outputs": [],
   "source": [
    "iterateur = 0\n",
    "\n",
    "while iterateur < 1_600:\n",
    "    iterateur = ajouter_deux(iterateur)\n",
    "    print(iterateur)"
   ]
  },
  {
   "cell_type": "code",
   "execution_count": null,
   "metadata": {
    "colab": {
     "base_uri": "https://localhost:8080/"
    },
    "executionInfo": {
     "elapsed": 274,
     "status": "ok",
     "timestamp": 1664638744635,
     "user": {
      "displayName": "Anthony Gagnon",
      "userId": "05371731791265063565"
     },
     "user_tz": 240
    },
    "id": "ibckHJUbMzfj",
    "outputId": "2434242e-9794-4cc5-ee19-51412efdbda4"
   },
   "outputs": [],
   "source": [
    "100_000_000 == 100000000"
   ]
  },
  {
   "cell_type": "markdown",
   "metadata": {
    "id": "hxB7NInf962Q"
   },
   "source": [
    "##### 1.5 Les objets (Rappel)\n"
   ]
  },
  {
   "cell_type": "code",
   "execution_count": null,
   "metadata": {
    "id": "0BbBo4qS9NWO"
   },
   "outputs": [],
   "source": [
    "from dataclasses import dataclass\n",
    "\n",
    "@dataclass\n",
    "class Conducteur():\n",
    "    nom:str\n",
    "    age:int\n",
    "    points:int\n",
    "\n",
    "mon_conducteur = Conducteur(nom='Ricky Bobby', age=35, points=127)\n",
    "mon_adversaire = Conducteur(nom='Jean Girard', age=38, points=138)"
   ]
  },
  {
   "cell_type": "code",
   "execution_count": null,
   "metadata": {
    "colab": {
     "base_uri": "https://localhost:8080/",
     "height": 53
    },
    "executionInfo": {
     "elapsed": 439,
     "status": "ok",
     "timestamp": 1664638816335,
     "user": {
      "displayName": "Anthony Gagnon",
      "userId": "05371731791265063565"
     },
     "user_tz": 240
    },
    "id": "7T_8g3CRO0hG",
    "outputId": "2f89caf7-894d-401a-92da-94206b80d187"
   },
   "outputs": [],
   "source": [
    "display(\n",
    "    mon_conducteur.nom,\n",
    "    abs(mon_conducteur.points - mon_adversaire.points)\n",
    ")\n",
    "# https://docs.python.org/3/library/functions.html#abs"
   ]
  },
  {
   "cell_type": "code",
   "execution_count": null,
   "metadata": {
    "id": "xQ2nM7bTPbwD"
   },
   "outputs": [],
   "source": [
    "@dataclass\n",
    "class Voiture():\n",
    "    couleur:str\n",
    "    kilometrage:float\n",
    "    conducteur:Conducteur\n",
    "\n",
    "    def ajouter_kilometres(self, kilometres):\n",
    "        self.kilometrage += kilometres\n",
    "\n",
    "    def peinturer(self, couleur:str):\n",
    "        self.couleur = couleur"
   ]
  },
  {
   "cell_type": "code",
   "execution_count": null,
   "metadata": {
    "colab": {
     "base_uri": "https://localhost:8080/",
     "height": 36
    },
    "executionInfo": {
     "elapsed": 404,
     "status": "ok",
     "timestamp": 1664638915506,
     "user": {
      "displayName": "Anthony Gagnon",
      "userId": "05371731791265063565"
     },
     "user_tz": 240
    },
    "id": "6hwBbMxVOJM4",
    "outputId": "7eddf6b5-5a79-4309-be01-1d73aec42d26"
   },
   "outputs": [],
   "source": [
    "ma_voiture = Voiture(couleur='rouge', kilometrage=0, conducteur=mon_conducteur)\n",
    "ma_voiture.conducteur.nom"
   ]
  },
  {
   "cell_type": "code",
   "execution_count": null,
   "metadata": {
    "id": "WnWNGTKCQju2"
   },
   "outputs": [],
   "source": [
    "ma_voiture.ajouter_kilometres(46.31)\n",
    "ma_voiture.ajouter_kilometres(374.38)\n",
    "ma_voiture.peinturer('bleu')"
   ]
  },
  {
   "cell_type": "code",
   "execution_count": null,
   "metadata": {
    "colab": {
     "base_uri": "https://localhost:8080/"
    },
    "executionInfo": {
     "elapsed": 238,
     "status": "ok",
     "timestamp": 1664638964477,
     "user": {
      "displayName": "Anthony Gagnon",
      "userId": "05371731791265063565"
     },
     "user_tz": 240
    },
    "id": "tWgeYmtoQomm",
    "outputId": "dddc894b-713b-4806-a9b5-b5be3de013f9"
   },
   "outputs": [],
   "source": [
    "round(ma_voiture.kilometrage)"
   ]
  },
  {
   "cell_type": "markdown",
   "metadata": {
    "id": "Nn2zAgZ6fVeg"
   },
   "source": [
    "### 2. Premiers pas vers l'analyse de données avec Pandas"
   ]
  },
  {
   "cell_type": "markdown",
   "metadata": {
    "id": "YMX2KS-Ce7ae"
   },
   "source": [
    "##### 2.1  Pandas : la base"
   ]
  },
  {
   "cell_type": "code",
   "execution_count": null,
   "metadata": {
    "id": "wd5gGyXPfzXp"
   },
   "outputs": [],
   "source": [
    "import pandas as pd\n",
    "import numpy as np"
   ]
  },
  {
   "cell_type": "code",
   "execution_count": null,
   "metadata": {
    "colab": {
     "base_uri": "https://localhost:8080/",
     "height": 175
    },
    "executionInfo": {
     "elapsed": 291,
     "status": "ok",
     "timestamp": 1664638978605,
     "user": {
      "displayName": "Anthony Gagnon",
      "userId": "05371731791265063565"
     },
     "user_tz": 240
    },
    "id": "2B6s73tyc3H5",
    "outputId": "c1a0a620-b2a6-43ac-d7d1-22bd7f344272"
   },
   "outputs": [],
   "source": [
    "M = [[1, 4, 5], \n",
    "    [-5, 8, 9],\n",
    "    [10, 5, 8],\n",
    "    [-2, -6, 4]]\n",
    "\n",
    "colonnes = ['A', 'B', 'C']\n",
    "\n",
    "mes_donnees = pd.DataFrame(M, columns=colonnes)\n",
    "mes_donnees"
   ]
  },
  {
   "cell_type": "code",
   "execution_count": null,
   "metadata": {
    "colab": {
     "base_uri": "https://localhost:8080/"
    },
    "executionInfo": {
     "elapsed": 3,
     "status": "ok",
     "timestamp": 1664596307619,
     "user": {
      "displayName": "Anthony Gagnon",
      "userId": "05371731791265063565"
     },
     "user_tz": 240
    },
    "id": "I3t_legJf94r",
    "outputId": "ebfe9f36-1385-4720-ceca-cc572659ab05"
   },
   "outputs": [],
   "source": [
    "type(mes_donnees)"
   ]
  },
  {
   "cell_type": "code",
   "execution_count": null,
   "metadata": {
    "colab": {
     "base_uri": "https://localhost:8080/"
    },
    "executionInfo": {
     "elapsed": 336,
     "status": "ok",
     "timestamp": 1664596307953,
     "user": {
      "displayName": "Anthony Gagnon",
      "userId": "05371731791265063565"
     },
     "user_tz": 240
    },
    "id": "BwZXrWa5g5Gh",
    "outputId": "9ed74c61-8c69-41c5-935a-cd6a5315f8bf"
   },
   "outputs": [],
   "source": [
    "mes_donnees['A']"
   ]
  },
  {
   "cell_type": "code",
   "execution_count": null,
   "metadata": {
    "colab": {
     "base_uri": "https://localhost:8080/"
    },
    "executionInfo": {
     "elapsed": 7,
     "status": "ok",
     "timestamp": 1664596307954,
     "user": {
      "displayName": "Anthony Gagnon",
      "userId": "05371731791265063565"
     },
     "user_tz": 240
    },
    "id": "i1yipVo8hApN",
    "outputId": "62118f39-668f-4692-b285-6b51ee2e3ed9"
   },
   "outputs": [],
   "source": [
    "mes_donnees['A'] + mes_donnees['B']"
   ]
  },
  {
   "cell_type": "code",
   "execution_count": null,
   "metadata": {
    "colab": {
     "base_uri": "https://localhost:8080/"
    },
    "executionInfo": {
     "elapsed": 323,
     "status": "ok",
     "timestamp": 1664596308502,
     "user": {
      "displayName": "Anthony Gagnon",
      "userId": "05371731791265063565"
     },
     "user_tz": 240
    },
    "id": "LuiTgA2WhVbv",
    "outputId": "4fba71e0-a7f7-4edd-a0dd-02af1501e81e"
   },
   "outputs": [],
   "source": [
    "mes_donnees.sum()"
   ]
  },
  {
   "cell_type": "code",
   "execution_count": null,
   "metadata": {
    "id": "NtmRjy5BhLkE"
   },
   "outputs": [],
   "source": [
    "dir(mes_donnees)\n",
    "# https://pandas.pydata.org/docs/reference/frame.html"
   ]
  },
  {
   "cell_type": "code",
   "execution_count": null,
   "metadata": {
    "id": "pB3dn9Nsmzb0"
   },
   "outputs": [],
   "source": [
    "url = 'https://www.donneesquebec.ca/recherche/dataset/34103a43-3712-4a29-92e1-039e9188e915/resource/13a51853-a5b5-4add-8791-02ccba5c1be7/download/vdq-arbrerepertorie.csv'\n",
    "donnees_arbre = pd.read_csv(url)"
   ]
  },
  {
   "cell_type": "code",
   "execution_count": null,
   "metadata": {
    "colab": {
     "base_uri": "https://localhost:8080/",
     "height": 392
    },
    "executionInfo": {
     "elapsed": 401,
     "status": "ok",
     "timestamp": 1664639064778,
     "user": {
      "displayName": "Anthony Gagnon",
      "userId": "05371731791265063565"
     },
     "user_tz": 240
    },
    "id": "7PG-LjDZjTpp",
    "outputId": "fa5f7f0a-1614-412f-bd9a-4077f68b33a5"
   },
   "outputs": [],
   "source": [
    "donnees_arbre.head(5)"
   ]
  },
  {
   "cell_type": "code",
   "execution_count": null,
   "metadata": {
    "colab": {
     "base_uri": "https://localhost:8080/"
    },
    "executionInfo": {
     "elapsed": 554,
     "status": "ok",
     "timestamp": 1664639076850,
     "user": {
      "displayName": "Anthony Gagnon",
      "userId": "05371731791265063565"
     },
     "user_tz": 240
    },
    "id": "vAoM4o6kj2WV",
    "outputId": "474cc852-22ab-4e20-bc35-7a679b5214e9"
   },
   "outputs": [],
   "source": [
    "donnees_arbre.shape"
   ]
  },
  {
   "cell_type": "code",
   "execution_count": null,
   "metadata": {
    "colab": {
     "base_uri": "https://localhost:8080/",
     "height": 392
    },
    "executionInfo": {
     "elapsed": 594,
     "status": "ok",
     "timestamp": 1664639088101,
     "user": {
      "displayName": "Anthony Gagnon",
      "userId": "05371731791265063565"
     },
     "user_tz": 240
    },
    "id": "cJrp_ohNlSLW",
    "outputId": "3d2163fc-8ad8-4ee0-f1e7-555430077dc6"
   },
   "outputs": [],
   "source": [
    "donnees_arbre.drop(columns=['ID'], inplace=True)\n",
    "donnees_arbre.head(5)"
   ]
  },
  {
   "cell_type": "markdown",
   "metadata": {
    "id": "2gOakR2rmNrj"
   },
   "source": [
    "##### 2.2  Sélection et indexation"
   ]
  },
  {
   "cell_type": "code",
   "execution_count": null,
   "metadata": {
    "colab": {
     "base_uri": "https://localhost:8080/"
    },
    "executionInfo": {
     "elapsed": 255,
     "status": "ok",
     "timestamp": 1664639094568,
     "user": {
      "displayName": "Anthony Gagnon",
      "userId": "05371731791265063565"
     },
     "user_tz": 240
    },
    "id": "E4e_OBD0mM2Q",
    "outputId": "00c18627-8be6-43c4-95bd-a5d83132721f"
   },
   "outputs": [],
   "source": [
    "# Sélectionner une colonne\n",
    "donnees_arbre[['NOM_FRANCAIS']]"
   ]
  },
  {
   "cell_type": "code",
   "execution_count": null,
   "metadata": {
    "colab": {
     "base_uri": "https://localhost:8080/",
     "height": 424
    },
    "executionInfo": {
     "elapsed": 23,
     "status": "ok",
     "timestamp": 1664596310628,
     "user": {
      "displayName": "Anthony Gagnon",
      "userId": "05371731791265063565"
     },
     "user_tz": 240
    },
    "id": "ggDfr9rhm3by",
    "outputId": "d4ed310b-aba8-4bc3-c410-f97c83bd7f24"
   },
   "outputs": [],
   "source": [
    "# Sélection de plusieurs colonnes\n",
    "donnees_arbre[['NOM_FRANCAIS', 'TYPE_PROP']]"
   ]
  },
  {
   "cell_type": "code",
   "execution_count": null,
   "metadata": {
    "colab": {
     "base_uri": "https://localhost:8080/"
    },
    "executionInfo": {
     "elapsed": 21,
     "status": "ok",
     "timestamp": 1664596310629,
     "user": {
      "displayName": "Anthony Gagnon",
      "userId": "05371731791265063565"
     },
     "user_tz": 240
    },
    "id": "ZYXZwY7Io9ua",
    "outputId": "8b188b01-7300-49f3-a780-84523ba9bb46"
   },
   "outputs": [],
   "source": [
    "# Sous-sélection de lignes\n",
    "donnees_arbre.loc[0:100, ['DIAMETRE']]"
   ]
  },
  {
   "cell_type": "code",
   "execution_count": null,
   "metadata": {
    "colab": {
     "base_uri": "https://localhost:8080/",
     "height": 641
    },
    "executionInfo": {
     "elapsed": 12,
     "status": "ok",
     "timestamp": 1664596310865,
     "user": {
      "displayName": "Anthony Gagnon",
      "userId": "05371731791265063565"
     },
     "user_tz": 240
    },
    "id": "RO1OV9OBnrWy",
    "outputId": "be8e70e7-5eb7-46b8-b701-020446138445"
   },
   "outputs": [],
   "source": [
    "# Sélection conditionnelle\n",
    "donnees_arbre.loc[(donnees_arbre['NOM_FRANCAIS'] == 'érable de Norvège') &\n",
    "                  (donnees_arbre['DIAMETRE'] >= 10)]"
   ]
  },
  {
   "cell_type": "code",
   "execution_count": null,
   "metadata": {
    "colab": {
     "base_uri": "https://localhost:8080/"
    },
    "executionInfo": {
     "elapsed": 303,
     "status": "ok",
     "timestamp": 1664639156975,
     "user": {
      "displayName": "Anthony Gagnon",
      "userId": "05371731791265063565"
     },
     "user_tz": 240
    },
    "id": "BTD1Wtx3sxG0",
    "outputId": "c2a17d87-c559-4bbf-a6aa-05b6c7484ddd"
   },
   "outputs": [],
   "source": [
    "# Fonctions sur données\n",
    "donnees_erable_p_10 = donnees_arbre.loc[(donnees_arbre['NOM_FRANCAIS'] == 'érable de Norvège') &\n",
    "                  (donnees_arbre['DIAMETRE'] >= 10)]\n",
    "donnees_erable_p_10.value_counts('TYPE_PROP')"
   ]
  },
  {
   "cell_type": "code",
   "execution_count": null,
   "metadata": {
    "colab": {
     "base_uri": "https://localhost:8080/",
     "height": 300
    },
    "executionInfo": {
     "elapsed": 406,
     "status": "ok",
     "timestamp": 1664596314646,
     "user": {
      "displayName": "Anthony Gagnon",
      "userId": "05371731791265063565"
     },
     "user_tz": 240
    },
    "id": "sAauqfnPD3cc",
    "outputId": "1fd15c7b-d0f4-4e46-ba48-eff16d18bf9f"
   },
   "outputs": [],
   "source": [
    "# Exemple de fonction\n",
    "donnees_erable_p_10.describe()"
   ]
  },
  {
   "cell_type": "markdown",
   "metadata": {
    "id": "xyMUnbNwFh31"
   },
   "source": [
    "##### 2.3 Graphiques élémentaires avec Pandas"
   ]
  },
  {
   "cell_type": "code",
   "execution_count": null,
   "metadata": {
    "colab": {
     "base_uri": "https://localhost:8080/",
     "height": 200
    },
    "executionInfo": {
     "elapsed": 1078,
     "status": "ok",
     "timestamp": 1664639165063,
     "user": {
      "displayName": "Anthony Gagnon",
      "userId": "05371731791265063565"
     },
     "user_tz": 240
    },
    "id": "In_JomuYFhNk",
    "outputId": "c22cb30f-a00e-4bd1-c706-75da29917908"
   },
   "outputs": [],
   "source": [
    "# Graphique à barres\n",
    "donnees_arbre.value_counts('NOM_FRANCAIS')[0:10].plot(kind='bar', \n",
    "                                                      figsize=(20, 7), \n",
    "                                                      rot=45)"
   ]
  },
  {
   "cell_type": "code",
   "execution_count": null,
   "metadata": {
    "colab": {
     "base_uri": "https://localhost:8080/",
     "height": 262
    },
    "executionInfo": {
     "elapsed": 993,
     "status": "ok",
     "timestamp": 1664639223010,
     "user": {
      "displayName": "Anthony Gagnon",
      "userId": "05371731791265063565"
     },
     "user_tz": 240
    },
    "id": "cw0KElQ_U82G",
    "outputId": "2eef515e-1448-4804-cd1d-cfca40fba2cb"
   },
   "outputs": [],
   "source": [
    "# Scatter plot\n",
    "donnees_arbre.plot.scatter('DIAMETRE', 'LONGITUDE')"
   ]
  },
  {
   "cell_type": "code",
   "execution_count": null,
   "metadata": {
    "colab": {
     "base_uri": "https://localhost:8080/",
     "height": 200
    },
    "executionInfo": {
     "elapsed": 721,
     "status": "ok",
     "timestamp": 1664639229356,
     "user": {
      "displayName": "Anthony Gagnon",
      "userId": "05371731791265063565"
     },
     "user_tz": 240
    },
    "id": "V3Td3XnLnJkS",
    "outputId": "083bb5ff-11a6-4039-a2b0-bec9103b257d"
   },
   "outputs": [],
   "source": [
    "# Histogramme\n",
    "donnees_arbre['DIAMETRE'].hist(bins=list(range(0,200,5)),\n",
    "                               figsize=(16,7))"
   ]
  },
  {
   "cell_type": "markdown",
   "metadata": {
    "id": "GOy4JanBHaKp"
   },
   "source": [
    "![image.png](data:image/png;base64,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)"
   ]
  },
  {
   "cell_type": "markdown",
   "metadata": {
    "id": "b9VpUukMHxPE"
   },
   "source": [
    "Pour créer des graphiques plus détaillés et esthétiques : [Module MatPlotLib](https://matplotlib.org/)"
   ]
  },
  {
   "cell_type": "markdown",
   "metadata": {
    "id": "OBoyVvSOFDLF"
   },
   "source": [
    "##### 2.4 \"*Mapping*\" de données\n",
    "##### **Défi : Trouver le district électoral dans lequel se trouve un arbre**"
   ]
  },
  {
   "cell_type": "code",
   "execution_count": null,
   "metadata": {
    "id": "8j7KmKwfJvuR"
   },
   "outputs": [],
   "source": [
    "# Importation des données de districts électoraux\n",
    "url = 'https://www.donneesquebec.ca/recherche/dataset/ca1847da-e908-43de-bd8c-588570331650/resource/fb320f4e-ea21-4713-b813-6b6be6724aef/download/vdq-districtelectoral.csv'\n",
    "donnees_district = pd.read_csv(url)\n",
    "donnees_district"
   ]
  },
  {
   "cell_type": "code",
   "execution_count": null,
   "metadata": {
    "id": "BAxzNDla1Esy"
   },
   "outputs": [],
   "source": [
    "# Inspection et réflexion sur les données arbres\n",
    "donnees_arbre.head(5)"
   ]
  },
  {
   "cell_type": "code",
   "execution_count": null,
   "metadata": {
    "colab": {
     "base_uri": "https://localhost:8080/"
    },
    "executionInfo": {
     "elapsed": 259,
     "status": "ok",
     "timestamp": 1664639339865,
     "user": {
      "displayName": "Anthony Gagnon",
      "userId": "05371731791265063565"
     },
     "user_tz": 240
    },
    "id": "dA0ysXazLe4w",
    "outputId": "e765f42e-125a-439e-8e24-f313380acf89"
   },
   "outputs": [],
   "source": [
    "# Importation d'un module de gestion des coordonnées géographiques\n",
    "from shapely.geometry import Point\n",
    "from shapely.geometry.polygon import Polygon\n",
    "from geomet import wkt\n",
    "\n",
    "point = Point(0.5, 0.5)\n",
    "polygon = Polygon([(0, 0), (0, 1), (1, 1), (1, 0)])\n",
    "polygon.contains(point)"
   ]
  },
  {
   "cell_type": "code",
   "execution_count": null,
   "metadata": {
    "id": "p4amccSsP9jl"
   },
   "outputs": [],
   "source": [
    "# Création d'une fonction utilitaire\n",
    "def transformer_en_point(coordonnees:tuple):\n",
    "    longitude, latitude = coordonnees[0], coordonnees[1]\n",
    "    return Point(longitude, latitude)\n",
    "\n",
    "def transformer_en_polygone(coordonnees_polygones_str):\n",
    "    coordonnees = wkt.loads(coordonnees_polygones_str)['coordinates'][0]\n",
    "    return Polygon(coordonnees)"
   ]
  },
  {
   "cell_type": "code",
   "execution_count": null,
   "metadata": {
    "id": "BTB37XVjTNYZ"
   },
   "outputs": [],
   "source": [
    "mon_polygone = donnees_district['GEOMETRIE'][14]\n",
    "\n",
    "transformer_en_polygone(mon_polygone)"
   ]
  },
  {
   "cell_type": "code",
   "execution_count": null,
   "metadata": {
    "colab": {
     "base_uri": "https://localhost:8080/",
     "height": 513
    },
    "executionInfo": {
     "elapsed": 854,
     "status": "ok",
     "timestamp": 1664639436061,
     "user": {
      "displayName": "Anthony Gagnon",
      "userId": "05371731791265063565"
     },
     "user_tz": 240
    },
    "id": "n-vt8Ek3Q2me",
    "outputId": "717e283b-4e8c-4201-a627-872d34e0271f"
   },
   "outputs": [],
   "source": [
    "# Création d'une colonne POLYGONES pour stocker les objets Polygon\n",
    "donnees_district['POLYGONES'] = donnees_district['GEOMETRIE'].map(transformer_en_polygone)\n",
    "donnees_district.head(5)"
   ]
  },
  {
   "cell_type": "code",
   "execution_count": null,
   "metadata": {
    "colab": {
     "base_uri": "https://localhost:8080/",
     "height": 392
    },
    "executionInfo": {
     "elapsed": 289,
     "status": "ok",
     "timestamp": 1664639685190,
     "user": {
      "displayName": "Anthony Gagnon",
      "userId": "05371731791265063565"
     },
     "user_tz": 240
    },
    "id": "KCUYN7UPT4lx",
    "outputId": "d0533f62-462c-4ec4-887b-1ba8c86f7576"
   },
   "outputs": [],
   "source": [
    "donnees_arbre.head(5)"
   ]
  },
  {
   "cell_type": "code",
   "execution_count": null,
   "metadata": {
    "id": "2yi8fQYaRw4i"
   },
   "outputs": [],
   "source": [
    "coords = list(\n",
    "    zip(donnees_arbre['LONGITUDE'], donnees_arbre['LATITUDE'])\n",
    "    )\n",
    "coords"
   ]
  },
  {
   "cell_type": "code",
   "execution_count": null,
   "metadata": {},
   "outputs": [],
   "source": [
    "donnees_arbre['DIAMETRE']"
   ]
  },
  {
   "cell_type": "code",
   "execution_count": null,
   "metadata": {
    "colab": {
     "base_uri": "https://localhost:8080/",
     "height": 444
    },
    "executionInfo": {
     "elapsed": 1780,
     "status": "ok",
     "timestamp": 1664639758092,
     "user": {
      "displayName": "Anthony Gagnon",
      "userId": "05371731791265063565"
     },
     "user_tz": 240
    },
    "id": "WWiA34rySVZA",
    "outputId": "db583162-b354-4d03-eb17-40067a58d3e5"
   },
   "outputs": [],
   "source": [
    "# Création d'une colonne POINTS pour stocker les objets Point\n",
    "donnees_arbre['POINTS'] = pd.Series(coords).map(transformer_en_point)\n",
    "donnees_arbre.head(5)"
   ]
  },
  {
   "cell_type": "code",
   "execution_count": null,
   "metadata": {
    "colab": {
     "base_uri": "https://localhost:8080/"
    },
    "executionInfo": {
     "elapsed": 423,
     "status": "ok",
     "timestamp": 1664639806620,
     "user": {
      "displayName": "Anthony Gagnon",
      "userId": "05371731791265063565"
     },
     "user_tz": 240
    },
    "id": "ZCagNvQPb6zA",
    "outputId": "1c42b00f-b4cc-45c9-d6ce-b7822534951f"
   },
   "outputs": [],
   "source": [
    "# Création d'un dictionnaire tel que :\n",
    "# dictionnaire = {\n",
    "#    'District électoral' : objet Polygon,\n",
    "# }\n",
    "\n",
    "polygone_district_dict = {}\n",
    "for (i, colonne) in donnees_district.iterrows():\n",
    "    polygone_district_dict[colonne['NOM']] = colonne['POLYGONES']\n",
    "polygone_district_dict"
   ]
  },
  {
   "cell_type": "code",
   "execution_count": null,
   "metadata": {
    "colab": {
     "base_uri": "https://localhost:8080/",
     "height": 36
    },
    "executionInfo": {
     "elapsed": 281,
     "status": "ok",
     "timestamp": 1664639954924,
     "user": {
      "displayName": "Anthony Gagnon",
      "userId": "05371731791265063565"
     },
     "user_tz": 240
    },
    "id": "uSMST7q3XFhK",
    "outputId": "24ef1848-0edc-4170-a94f-6b714b4a2c47"
   },
   "outputs": [],
   "source": [
    "# Création d'une fonction qui prend un point et retourne son district électoral\n",
    "def obtenir_district_depuis_point(point):\n",
    "    for district in polygone_district_dict.keys():\n",
    "        polygone = polygone_district_dict[district]\n",
    "        if polygone.contains(point):\n",
    "            return district\n",
    "    return None\n",
    "\n",
    "# Exemple\n",
    "obtenir_district_depuis_point(donnees_arbre['POINTS'][12_745])"
   ]
  },
  {
   "cell_type": "code",
   "execution_count": null,
   "metadata": {
    "id": "KNQml0PzZBJX"
   },
   "outputs": [],
   "source": [
    "# Mapping des données de district électoral sur les coordonnées d'arbre\n",
    "donnees_arbre['DISTRICT'] = donnees_arbre['POINTS'].map(obtenir_district_depuis_point)"
   ]
  },
  {
   "cell_type": "code",
   "execution_count": null,
   "metadata": {
    "colab": {
     "base_uri": "https://localhost:8080/",
     "height": 444
    },
    "executionInfo": {
     "elapsed": 273,
     "status": "ok",
     "timestamp": 1664639991778,
     "user": {
      "displayName": "Anthony Gagnon",
      "userId": "05371731791265063565"
     },
     "user_tz": 240
    },
    "id": "ErG8CkZ6n0-H",
    "outputId": "ea2b801e-9fd5-4973-d73b-eb1cca654953"
   },
   "outputs": [],
   "source": [
    "donnees_arbre.head(5)"
   ]
  },
  {
   "cell_type": "code",
   "execution_count": null,
   "metadata": {
    "colab": {
     "base_uri": "https://localhost:8080/"
    },
    "executionInfo": {
     "elapsed": 618,
     "status": "ok",
     "timestamp": 1664640008825,
     "user": {
      "displayName": "Anthony Gagnon",
      "userId": "05371731791265063565"
     },
     "user_tz": 240
    },
    "id": "_35L1WYrbSV4",
    "outputId": "5b20b222-3b2e-463a-e9b1-f66c2df4a224"
   },
   "outputs": [],
   "source": [
    "donnees_arbre['DISTRICT'].value_counts()"
   ]
  },
  {
   "cell_type": "markdown",
   "metadata": {
    "id": "dd4STsHyoXXC"
   },
   "source": [
    "##### 2.5 Tabulation croisée"
   ]
  },
  {
   "cell_type": "code",
   "execution_count": null,
   "metadata": {
    "colab": {
     "base_uri": "https://localhost:8080/",
     "height": 974
    },
    "executionInfo": {
     "elapsed": 262,
     "status": "ok",
     "timestamp": 1664640172065,
     "user": {
      "displayName": "Anthony Gagnon",
      "userId": "05371731791265063565"
     },
     "user_tz": 240
    },
    "id": "JOk1Movkm2v7",
    "outputId": "cbb686b1-fde4-4e98-877d-cd4e1342a5dd"
   },
   "outputs": [],
   "source": [
    "pd.crosstab(donnees_arbre['DISTRICT'], donnees_arbre['TYPE_ARBRE'])"
   ]
  },
  {
   "cell_type": "markdown",
   "metadata": {
    "id": "SjzIzY5mjfKB"
   },
   "source": [
    "### 3. Un soupçon d'apprentissage-machine\n",
    "\n",
    "##### 3.1 Nettoyage des données"
   ]
  },
  {
   "cell_type": "code",
   "execution_count": null,
   "metadata": {
    "colab": {
     "base_uri": "https://localhost:8080/",
     "height": 444
    },
    "executionInfo": {
     "elapsed": 281,
     "status": "ok",
     "timestamp": 1664640180764,
     "user": {
      "displayName": "Anthony Gagnon",
      "userId": "05371731791265063565"
     },
     "user_tz": 240
    },
    "id": "RGfVZGyabvp2",
    "outputId": "36732ef8-c3ab-43e4-cce2-1571e6d4be5d"
   },
   "outputs": [],
   "source": [
    "donnees_arbre.head(5)"
   ]
  },
  {
   "cell_type": "code",
   "execution_count": null,
   "metadata": {
    "colab": {
     "base_uri": "https://localhost:8080/",
     "height": 374
    },
    "executionInfo": {
     "elapsed": 284,
     "status": "ok",
     "timestamp": 1664640196841,
     "user": {
      "displayName": "Anthony Gagnon",
      "userId": "05371731791265063565"
     },
     "user_tz": 240
    },
    "id": "kCcCqiAxjuUw",
    "outputId": "26c15181-79fd-4eed-e566-98f1ca9159d9"
   },
   "outputs": [],
   "source": [
    "colonnes_pertinentes = [\n",
    "    'TYPE_LIEU',\n",
    "    'TYPE_ARBRE',\n",
    "    'DIAMETRE',\n",
    "    'MULTI_TRONC',\n",
    "    'NOM_FRANCAIS',\n",
    "    'DISTRICT',\n",
    "]\n",
    "\n",
    "donnees_arbre_nettoyees = donnees_arbre[colonnes_pertinentes]\n",
    "donnees_arbre_nettoyees.head(5)"
   ]
  },
  {
   "cell_type": "code",
   "execution_count": null,
   "metadata": {
    "colab": {
     "base_uri": "https://localhost:8080/"
    },
    "executionInfo": {
     "elapsed": 250,
     "status": "ok",
     "timestamp": 1664640206542,
     "user": {
      "displayName": "Anthony Gagnon",
      "userId": "05371731791265063565"
     },
     "user_tz": 240
    },
    "id": "wdWRrmw4tDcn",
    "outputId": "8a6ecfbc-e55a-42f2-b6bd-82546cf42c50"
   },
   "outputs": [],
   "source": [
    "for (i, row) in donnees_arbre_nettoyees.items():\n",
    "    print(row.value_counts(),  '\\n\\n\\n')"
   ]
  },
  {
   "cell_type": "code",
   "execution_count": null,
   "metadata": {},
   "outputs": [],
   "source": [
    "# Arbres avec plus de 1000 individus\n",
    "arbres = pd.DataFrame(donnees_arbre_nettoyees['NOM_FRANCAIS'].value_counts())\n",
    "arbres = list(arbres.loc[(arbres['NOM_FRANCAIS'] > 1000)].index)\n",
    "arbres"
   ]
  },
  {
   "cell_type": "code",
   "execution_count": null,
   "metadata": {
    "colab": {
     "base_uri": "https://localhost:8080/",
     "height": 235
    },
    "executionInfo": {
     "elapsed": 245,
     "status": "error",
     "timestamp": 1664672359689,
     "user": {
      "displayName": "Anthony Gagnon",
      "userId": "05371731791265063565"
     },
     "user_tz": 240
    },
    "id": "I_yevibzsm_S",
    "outputId": "5379d32e-e1d1-4a1e-d792-1b872b7c1410"
   },
   "outputs": [],
   "source": [
    "donnees_arbre_final = donnees_arbre_nettoyees.loc[(donnees_arbre_nettoyees['TYPE_LIEU'] != 'Non disponible') & \n",
    "                                                  (donnees_arbre_nettoyees['DIAMETRE'] > 1) &\n",
    "                                                  (donnees_arbre_nettoyees['NOM_FRANCAIS'].isin(arbres))\n",
    "                                                 ]\n",
    "donnees_arbre_final = donnees_arbre_final.dropna().reset_index(drop=True)\n",
    "donnees_arbre_final"
   ]
  },
  {
   "cell_type": "code",
   "execution_count": null,
   "metadata": {},
   "outputs": [],
   "source": [
    "parametres = ['TYPE_LIEU', 'TYPE_ARBRE', 'DIAMETRE', 'MULTI_TRONC', 'DISTRICT']\n",
    "variable = ['NOM_FRANCAIS']\n",
    "X, y  = donnees_arbre_final[parametres], donnees_arbre_final[variable]"
   ]
  },
  {
   "cell_type": "code",
   "execution_count": null,
   "metadata": {},
   "outputs": [],
   "source": [
    "from sklearn.preprocessing import OrdinalEncoder\n",
    "from sklearn.preprocessing import StandardScaler\n",
    "from sklearn.preprocessing import OneHotEncoder\n",
    "\n",
    "encoded_data = OrdinalEncoder().fit_transform(X[['TYPE_LIEU', 'TYPE_ARBRE', 'MULTI_TRONC']])\n",
    "X = X.assign(TYPE_LIEU = encoded_data[:,0], TYPE_ARBRE= encoded_data[:,1], MULTI_TRONC= encoded_data[:,2])\n",
    "X['DIAMETRE'] = X['DIAMETRE'].apply(np.log)\n",
    "X"
   ]
  },
  {
   "cell_type": "code",
   "execution_count": null,
   "metadata": {},
   "outputs": [],
   "source": [
    "onehot_encoded_data = OneHotEncoder(sparse=False).fit_transform(X[['DISTRICT']])\n",
    "onehot_encoded_data"
   ]
  },
  {
   "cell_type": "code",
   "execution_count": null,
   "metadata": {},
   "outputs": [],
   "source": [
    "onehot_encoded_data.shape"
   ]
  },
  {
   "cell_type": "code",
   "execution_count": null,
   "metadata": {},
   "outputs": [],
   "source": [
    "X = pd.concat([X, pd.DataFrame(onehot_encoded_data)], axis=1).drop(columns=['DISTRICT'])"
   ]
  },
  {
   "cell_type": "code",
   "execution_count": null,
   "metadata": {},
   "outputs": [],
   "source": [
    "X"
   ]
  },
  {
   "cell_type": "code",
   "execution_count": null,
   "metadata": {},
   "outputs": [],
   "source": [
    "y"
   ]
  },
  {
   "cell_type": "code",
   "execution_count": null,
   "metadata": {},
   "outputs": [],
   "source": [
    "X = pd.DataFrame(StandardScaler().fit_transform(X))\n",
    "X"
   ]
  },
  {
   "cell_type": "markdown",
   "metadata": {},
   "source": [
    "##### 3.2 Séparation entre données sources et données test"
   ]
  },
  {
   "cell_type": "code",
   "execution_count": null,
   "metadata": {
    "colab": {
     "base_uri": "https://localhost:8080/",
     "height": 261
    },
    "executionInfo": {
     "elapsed": 342,
     "status": "ok",
     "timestamp": 1664643630205,
     "user": {
      "displayName": "Anthony Gagnon",
      "userId": "05371731791265063565"
     },
     "user_tz": 240
    },
    "id": "lDgU_l_4j191",
    "outputId": "eb587257-6121-4295-d96b-d271019e10b3"
   },
   "outputs": [],
   "source": [
    "# Définition des paramètres et de la variable\n",
    "from sklearn.model_selection import train_test_split\n",
    "\n",
    "X_train, X_test, y_train, y_test = train_test_split(X,y)"
   ]
  },
  {
   "cell_type": "code",
   "execution_count": null,
   "metadata": {},
   "outputs": [],
   "source": [
    "[i.shape for i in [X_train, X_test, y_train, y_test]]"
   ]
  },
  {
   "cell_type": "code",
   "execution_count": null,
   "metadata": {},
   "outputs": [],
   "source": [
    "display(\n",
    "    X_train.head(5),\n",
    "    y_train.head(5)\n",
    ")"
   ]
  },
  {
   "cell_type": "code",
   "execution_count": null,
   "metadata": {},
   "outputs": [],
   "source": [
    "from sklearn.linear_model import LogisticRegression\n",
    "import numpy as np\n",
    "# Set regularization rate\n",
    "reg = 0.1\n",
    "\n",
    "# train a logistic regression model on the training set\n",
    "multi_model = LogisticRegression(C=1/reg, solver='lbfgs', multi_class='auto', max_iter=100).fit(X_train, y_train.values.ravel())\n",
    "print(multi_model)"
   ]
  },
  {
   "cell_type": "code",
   "execution_count": null,
   "metadata": {},
   "outputs": [],
   "source": [
    "sample = pd.DataFrame(X_test).sample(1)\n",
    "ix = sample.index[0]\n",
    "sample"
   ]
  },
  {
   "cell_type": "code",
   "execution_count": null,
   "metadata": {},
   "outputs": [],
   "source": [
    "pd.DataFrame(y_test).loc[ix]"
   ]
  },
  {
   "cell_type": "code",
   "execution_count": null,
   "metadata": {},
   "outputs": [],
   "source": [
    "ma_prediction = multi_model.predict(sample)\n",
    "ma_prediction"
   ]
  },
  {
   "cell_type": "code",
   "execution_count": null,
   "metadata": {},
   "outputs": [],
   "source": [
    "from sklearn. metrics import classification_report\n",
    "\n",
    "print(\n",
    "    classification_report(y_test, multi_model.predict(X_test))\n",
    ")"
   ]
  },
  {
   "cell_type": "markdown",
   "metadata": {},
   "source": [
    "# FIN."
   ]
  }
 ],
 "metadata": {
  "colab": {
   "authorship_tag": "ABX9TyOEVHwmE14vqWMGqsWnFbXq",
   "collapsed_sections": [],
   "provenance": []
  },
  "kernelspec": {
   "display_name": "Python 3 (ipykernel)",
   "language": "python",
   "name": "python3"
  },
  "language_info": {
   "codemirror_mode": {
    "name": "ipython",
    "version": 3
   },
   "file_extension": ".py",
   "mimetype": "text/x-python",
   "name": "python",
   "nbconvert_exporter": "python",
   "pygments_lexer": "ipython3",
   "version": "3.9.7"
  }
 },
 "nbformat": 4,
 "nbformat_minor": 1
}
